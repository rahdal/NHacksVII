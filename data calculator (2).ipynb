{
 "cells": [
  {
   "cell_type": "code",
   "execution_count": 2,
   "metadata": {},
   "outputs": [],
   "source": [
    "#Imports\n",
    "import numpy as np\n",
    "import pandas as pd\n",
    "import matplotlib.pyplot as plt\n",
    "import csv\n",
    "\n",
    "#Progres bar\n",
    "from tqdm import tqdm"
   ]
  },
  {
   "cell_type": "code",
   "execution_count": 3,
   "metadata": {},
   "outputs": [],
   "source": [
    "#Load output.csv into df\n",
    "with open('output.csv', encoding='utf8') as input_file:\n",
    "    df = pd.read_csv(input_file)"
   ]
  },
  {
   "cell_type": "code",
   "execution_count": 4,
   "metadata": {},
   "outputs": [],
   "source": [
    "#Generate list of all users\n",
    "users = df['sender'].unique()\n",
    "\n",
    "#Create empty graph of users\n",
    "graph = np.zeros((len(users), len(users)))\n",
    "\n",
    "#Add an additional edge from user a to user b if user a replies to user b\n",
    "pbar = tqdm(total=len(df))\n",
    "for k, row in df.iterrows():\n",
    "    pbar.update(1)\n",
    "    if row['reply_to_msg_id'] != -1:\n",
    "        a = np.where(users == row['sender'])\n",
    "        repliedMessageID = row['reply_to_msg_id']\n",
    "        #Check if replied message exists in the df\n",
    "        if repliedMessageID in df['msg_id'].values:\n",
    "            #Get the row of the dataframe corresponding to repliedMessageID\n",
    "            repliedMessageRow = df[df['msg_id'] == repliedMessageID]\n",
    "            #Get the sender of repliedMessageRow\n",
    "            repliedMessageSender = repliedMessageRow['sender'].values[0]\n",
    "            #Get the index of repliedMessageSender in users\n",
    "            b = np.where(users == repliedMessageSender)\n",
    "            #Add an edge from a -> b\n",
    "            graph[a, b] += 1\n",
    "pbar.close()\n",
    "\n",
    "\n",
    "print(graph)"
   ]
  },
  {
   "cell_type": "code",
   "execution_count": 32,
   "metadata": {},
   "outputs": [],
   "source": [
    "leaderboard = []\n",
    "for x, row in enumerate(graph):\n",
    "    for y, val in enumerate(row):\n",
    "        leaderboard.append([val, users[x], users[y]])\n",
    "#Sort leaderboard by val\n",
    "leaderboard = sorted(leaderboard, key=lambda x: x[0], reverse=True)\n",
    "#Print leaderboard with newline after every element, adjusted so columns line up with each other\n",
    "commonPairings = pd.DataFrame(leaderboard)\n",
    "commonPairings.columns = ['Messages', 'Pair', 'Pair1']\n",
    "commonPairings['Pair'] = commonPairings['Pair'] + ' & ' + commonPairings['Pair1']\n",
    "del commonPairings['Pair1']\n",
    "reduced = commonPairings.drop(commonPairings.index[10:])\n",
    "print(reduced)\n",
    "\n",
    "\n",
    "#print(\"#\", \"Original\", \"Reply\", sep=\"\\t\")\n",
    "#for x in leaderboard:\n",
    " #   print(x[0], x[1], x[2], sep='\\t')\n",
    "\n",
    "reduced.to_csv(\"CommonPairings.csv\", index=False)"
   ]
  },
  {
   "cell_type": "code",
   "execution_count": 6,
   "metadata": {},
   "outputs": [],
   "source": [
    "#Create a website with an interactive graph"
   ]
  }
 ],
 "metadata": {
  "interpreter": {
   "hash": "a8031db00f6a5c13c13f245a2c2d155a250003dfd8abe18fc3278076cc6b132e"
  },
  "kernelspec": {
   "display_name": "Python 3.8.11 ('base')",
   "language": "python",
   "name": "python3"
  },
  "language_info": {
   "codemirror_mode": {
    "name": "ipython",
    "version": 3
   },
   "file_extension": ".py",
   "mimetype": "text/x-python",
   "name": "python",
   "nbconvert_exporter": "python",
   "pygments_lexer": "ipython3",
   "version": "3.8.11"
  },
  "orig_nbformat": 4
 },
 "nbformat": 4,
 "nbformat_minor": 2
}
