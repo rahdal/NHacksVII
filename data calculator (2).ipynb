{
 "cells": [
  {
   "cell_type": "code",
   "execution_count": 1,
   "metadata": {},
   "outputs": [],
   "source": [
    "#Imports\n",
    "import numpy as np\n",
    "import pandas as pd\n",
    "import matplotlib.pyplot as plt\n",
    "import csv\n",
    "\n",
    "#Progres bar\n",
    "from tqdm import tqdm"
   ]
  },
  {
   "cell_type": "code",
   "execution_count": 2,
   "metadata": {},
   "outputs": [],
   "source": [
    "#Load output.csv into df\n",
    "with open('output.csv', encoding='UTF-8', mode='r') as input_file:\n",
    "    df = pd.read_csv(input_file)"
   ]
  },
  {
   "cell_type": "code",
   "execution_count": 3,
   "metadata": {},
   "outputs": [],
   "source": [
    "# Prep data\n",
    "df[['sender']] = df[['sender']].fillna('Deleted Account')\n",
    "users = df['sender'].unique()\n",
    "msg_df = df.set_index('msg_id')"
   ]
  },
  {
   "cell_type": "code",
   "execution_count": 4,
   "metadata": {},
   "outputs": [],
   "source": [
    "from functools import partial\n",
    "# Create a new column with the sender of what each message is replying to\n",
    "msg_df['reply_to_name'] = msg_df[msg_df['reply_to_msg_id'] != -1]['reply_to_msg_id'] \\\n",
    "    .map(partial(msg_df['sender'].get, default=np.NaN))\n",
    "# Count the amount of times each replier-sender pair occurs\n",
    "commonPairings = msg_df[msg_df['reply_to_name'].notnull()] \\\n",
    "    .reset_index() \\\n",
    "    .set_index(['sender', 'reply_to_name', 'msg_id'])['reply_to_msg_id'] \\\n",
    "    .groupby(['sender', 'reply_to_name'], ) \\\n",
    "    .count() \\\n",
    "    .sort_values(ascending=False)\n",
    "# Get top 10, format, and write to csv\n",
    "reduced = commonPairings.reset_index()[:10]\n",
    "reduced['Pair'] = reduced['sender'] + ' -> ' + reduced['reply_to_name']\n",
    "reduced = reduced.drop(['sender', 'reply_to_name'], axis=1) \\\n",
    "    .rename(columns={'reply_to_msg_id': 'Messages'}, )\n",
    "reduced.to_csv(\"csvFiles/CommonPairings.csv\", index=False)"
   ]
  },
  {
   "cell_type": "code",
   "execution_count": 5,
   "metadata": {},
   "outputs": [],
   "source": [
    "\n",
    "from datetime import date\n",
    "\n",
    "#Create a line graph showing activity of users each day\n",
    "#Create new df with columns \"all\" then each user\n",
    "#Add day column to df with just the first 10 characters of df['date']\n",
    "df['day'] = df['date'].apply(lambda x: x[:10])\n",
    "\n",
    "dailyActivity = df[['sender', 'day']] \\\n",
    "    .rename(columns={'day': 'Date'}) \\\n",
    "    .groupby(['Date']) \\\n",
    "    .value_counts() \\\n",
    "    .unstack(level=1) \\\n",
    "    .fillna(0) \\\n",
    "    .astype(int)\n",
    "dailyActivity['all'] = dailyActivity.sum(axis=1)\n",
    "dailyActivity = dailyActivity[['all'] + list(users)]\n",
    "\n",
    "# dailyActivity2 = pd.DataFrame(columns=['all'] + list(users))\n",
    "# dailyActivity3 = pd.DataFrame(columns=['all'] + list(users))\n",
    "# pbar = tqdm(total=len(df['day'].unique()))\n",
    "# for i, specificDate in enumerate(df['day'].unique()):\n",
    "#     pbar.update(1)\n",
    "#     #Get all messages sent on this date\n",
    "#     specificDateMessages = df[df['day'] == specificDate]\n",
    "#     dailyActivity2.loc[specificDate] = specificDateMessages['sender'].value_counts().fillna(0)\n",
    "#     dailyActivity2.loc[specificDate]['all'] = len(specificDateMessages)\n",
    "    \n",
    "#     # #Add an empty row to dailyActivity for this date, with the row label being the date\n",
    "#     # dailyActivity3.loc[specificDate] = [0] * (len(users) + 1)\n",
    "#     # #The first column is the number of messages sent on this date\n",
    "#     # dailyActivity3.loc[specificDate, 'all'] = len(specificDateMessages)\n",
    "#     # #For each message sent on this date, add 1 to the corresponding user's row\n",
    "#     # for k, row in specificDateMessages.iterrows():\n",
    "#     #     dailyActivity3.loc[specificDate, row['sender']] += 1\n",
    "# #Replace every NaN with 0 and convert everything to int\n",
    "# dailyActivity2 = dailyActivity2.fillna(0).astype(int)\n",
    "# pbar.close()\n",
    "\n",
    "#Group the rows of dailyActivity by month\n",
    "#If the first 7 characters of the row name are the same, then they are in the same month\n",
    "#Add up the columns for all rows in the same month\n",
    "dailyActivityByMonth = dailyActivity.groupby(lambda x: x[:7]).sum()\n",
    "\n",
    "#Label index\n",
    "dailyActivity.index.name = 'Date'\n",
    "dailyActivityByMonth.index.name = 'Month'\n",
    "\n",
    "dailyActivity.to_csv(\"csvFiles/DailyActivity.csv\")\n",
    "dailyActivityByMonth.to_csv(\"csvFiles/DailyActivityByMonth.csv\")"
   ]
  },
  {
   "cell_type": "code",
   "execution_count": 6,
   "metadata": {},
   "outputs": [],
   "source": [
    "#Calculate hourly activity\n",
    "#Create new df with columns \"all\" then each user\n",
    "hourlyActivity = pd.DataFrame(columns=['all'] + list(users))\n",
    "\n",
    "#Add new column \"time\" and \"hour\" to df 11:19\n",
    "df['time'] = df['date'].apply(lambda x: x[11:19])\n",
    "df['hour'] = df['time'].apply(lambda x: int(x[:2]))\n",
    "\n",
    "dfHourGrouped = df[['sender', 'hour']] \\\n",
    "    .groupby(['hour', 'sender']) \\\n",
    "    .value_counts() \\\n",
    "    .unstack(level=1) \\\n",
    "    .fillna(0) \\\n",
    "    .astype(int)\n",
    "dfHourGrouped['all'] = dfHourGrouped.sum(axis=1)\n",
    "dfHourGrouped = dfHourGrouped[['all'] + list(users)]\n",
    "\n",
    "dfHourGrouped.index.name = 'Hour'\n",
    "dfHourGrouped.to_csv(\"csvFiles/HourlyActivity.csv\")"
   ]
  },
  {
   "cell_type": "code",
   "execution_count": 7,
   "metadata": {},
   "outputs": [],
   "source": [
    "from emoji import UNICODE_EMOJI\n",
    "def is_emoji(s):\n",
    "    return s in UNICODE_EMOJI['en']\n",
    "\n",
    "#Add a column with the number of characters in the message\n",
    "df['messageLength'] = df['msg_content'].apply(lambda x: len(str(x)))\n",
    "#Add a column with the number of capital characters in each message\n",
    "df['capitalLetters'] = df['msg_content'].apply(lambda x: sum(1 for c in str(x) if c.isupper()))\n",
    "#Add a column with the number of emojis in each message\n",
    "df['emojiCount'] = df['msg_content'].apply(lambda x: sum(1 for c in str(x) if is_emoji(c)))\n",
    "#Add a column with 1 if message is all caps, 0 otherwise\n",
    "df['allCaps'] = df['msg_content'].apply(lambda x: 1 if str(x).isupper() else 0)\n",
    "\n",
    "#Make a new dataframe where each row is a user\n",
    "userData = pd.DataFrame()\n",
    "#Add column for num messages sent\n",
    "for row in users:\n",
    "    #Add column for num messages sent\n",
    "    userData.loc[row, 'numMessages'] = len(df[df['sender'] == row])\n",
    "    #Add column for percentage for num emojis sent\n",
    "    userData.loc[row, 'emojiPercentage'] = (df[df['sender'] == row]['emojiCount'].sum() / df[df['sender'] == row]['messageLength'].sum()) * 100\n",
    "    #Add column for percentage for num capital letters sent\n",
    "    userData.loc[row, 'capitalLettersPercentage'] = (df[df['sender'] == row]['capitalLetters'].sum() / df[df['sender'] == row]['messageLength'].sum()) * 100\n",
    "    #Add column for percentage of all caps messages\n",
    "    userData.loc[row, 'allCapsPercentage'] = (df[df['sender'] == row]['allCaps'].sum() / userData['numMessages'][row]) * 100\n",
    "userData.index.name = 'User'\n",
    "userData.to_csv(\"csvFiles/UserData.csv\")\n"
   ]
  }
 ],
 "metadata": {
  "interpreter": {
   "hash": "09c11fd06fb910aa358b947c35e417efff5b323edd0b9adac23a728905d8bdbf"
  },
  "kernelspec": {
   "display_name": "Python 3.10.4 64-bit",
   "language": "python",
   "name": "python3"
  },
  "language_info": {
   "codemirror_mode": {
    "name": "ipython",
    "version": 3
   },
   "file_extension": ".py",
   "mimetype": "text/x-python",
   "name": "python",
   "nbconvert_exporter": "python",
   "pygments_lexer": "ipython3",
   "version": "3.10.4"
  },
  "orig_nbformat": 4
 },
 "nbformat": 4,
 "nbformat_minor": 2
}
